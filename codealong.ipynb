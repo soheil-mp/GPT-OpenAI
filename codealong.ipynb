{
 "cells": [
  {
   "cell_type": "markdown",
   "id": "3ce95c57",
   "metadata": {},
   "source": [
    "# Codealong Notebook\n",
    "\n",
    "Use this notebook as your \"scratch pad\" as you go through the course contents. Feel free to copy any example code and tweak it to get a better understanding of how it works!\n",
    "\n",
    "Use the **+** button or `Insert` menu to add additional code cells as needed."
   ]
  },
  {
   "cell_type": "code",
   "execution_count": 1,
   "id": "6b66f2d1",
   "metadata": {},
   "outputs": [],
   "source": [
    "# Import the libraries\n",
    "import pandas as pd\n",
    "import openai"
   ]
  },
  {
   "cell_type": "markdown",
   "id": "86da1ad2",
   "metadata": {},
   "source": [
    "## Step 1"
   ]
  },
  {
   "cell_type": "markdown",
   "id": "72084745",
   "metadata": {},
   "source": [
    "### Loading the Data with `pandas`"
   ]
  },
  {
   "cell_type": "code",
   "execution_count": 4,
   "id": "7906568a",
   "metadata": {},
   "outputs": [
    {
     "data": {
      "text/html": [
       "<div>\n",
       "<style scoped>\n",
       "    .dataframe tbody tr th:only-of-type {\n",
       "        vertical-align: middle;\n",
       "    }\n",
       "\n",
       "    .dataframe tbody tr th {\n",
       "        vertical-align: top;\n",
       "    }\n",
       "\n",
       "    .dataframe thead th {\n",
       "        text-align: right;\n",
       "    }\n",
       "</style>\n",
       "<table border=\"1\" class=\"dataframe\">\n",
       "  <thead>\n",
       "    <tr style=\"text-align: right;\">\n",
       "      <th></th>\n",
       "      <th>text</th>\n",
       "      <th>embeddings</th>\n",
       "    </tr>\n",
       "  </thead>\n",
       "  <tbody>\n",
       "    <tr>\n",
       "      <th>0</th>\n",
       "      <td>– 2022 (MMXXII) was a common year starting on...</td>\n",
       "      <td>[9.742109250510111e-05, -0.018078520894050598,...</td>\n",
       "    </tr>\n",
       "    <tr>\n",
       "      <th>1</th>\n",
       "      <td>– 2022 saw the removal of nearly all COVID-19...</td>\n",
       "      <td>[-0.006740245968103409, -0.024927902966737747,...</td>\n",
       "    </tr>\n",
       "    <tr>\n",
       "      <th>2</th>\n",
       "      <td>– The Russian invasion of Ukraine, the larges...</td>\n",
       "      <td>[-0.0062200650572776794, -0.007076282054185867...</td>\n",
       "    </tr>\n",
       "    <tr>\n",
       "      <th>3</th>\n",
       "      <td>– Many prominent figures died in 2022, includ...</td>\n",
       "      <td>[-0.0067838518880307674, -0.008528643287718296...</td>\n",
       "    </tr>\n",
       "    <tr>\n",
       "      <th>4</th>\n",
       "      <td>January 1 – The Regional Comprehensive Economi...</td>\n",
       "      <td>[-0.0005128878983668983, -0.02750258892774582,...</td>\n",
       "    </tr>\n",
       "    <tr>\n",
       "      <th>...</th>\n",
       "      <td>...</td>\n",
       "      <td>...</td>\n",
       "    </tr>\n",
       "    <tr>\n",
       "      <th>168</th>\n",
       "      <td>December 7 – After substantial protests agains...</td>\n",
       "      <td>[0.015803100541234016, -0.01866208389401436, -...</td>\n",
       "    </tr>\n",
       "    <tr>\n",
       "      <th>169</th>\n",
       "      <td>December 17 – Leo Varadkar succeeds Micheál Ma...</td>\n",
       "      <td>[0.008315027691423893, -0.02372470125555992, -...</td>\n",
       "    </tr>\n",
       "    <tr>\n",
       "      <th>170</th>\n",
       "      <td>December 19 – At the UN Biodiversity Conferenc...</td>\n",
       "      <td>[0.0017093520145863295, -0.009248359128832817,...</td>\n",
       "    </tr>\n",
       "    <tr>\n",
       "      <th>171</th>\n",
       "      <td>December 21–26 – A major winter storm hits the...</td>\n",
       "      <td>[-0.024563809856772423, -0.020963717252016068,...</td>\n",
       "    </tr>\n",
       "    <tr>\n",
       "      <th>172</th>\n",
       "      <td>December 24 – 2022 Fijian general election: Th...</td>\n",
       "      <td>[-0.011584475636482239, -0.009254708886146545,...</td>\n",
       "    </tr>\n",
       "  </tbody>\n",
       "</table>\n",
       "<p>173 rows × 2 columns</p>\n",
       "</div>"
      ],
      "text/plain": [
       "                                                  text  \\\n",
       "0     – 2022 (MMXXII) was a common year starting on...   \n",
       "1     – 2022 saw the removal of nearly all COVID-19...   \n",
       "2     – The Russian invasion of Ukraine, the larges...   \n",
       "3     – Many prominent figures died in 2022, includ...   \n",
       "4    January 1 – The Regional Comprehensive Economi...   \n",
       "..                                                 ...   \n",
       "168  December 7 – After substantial protests agains...   \n",
       "169  December 17 – Leo Varadkar succeeds Micheál Ma...   \n",
       "170  December 19 – At the UN Biodiversity Conferenc...   \n",
       "171  December 21–26 – A major winter storm hits the...   \n",
       "172  December 24 – 2022 Fijian general election: Th...   \n",
       "\n",
       "                                            embeddings  \n",
       "0    [9.742109250510111e-05, -0.018078520894050598,...  \n",
       "1    [-0.006740245968103409, -0.024927902966737747,...  \n",
       "2    [-0.0062200650572776794, -0.007076282054185867...  \n",
       "3    [-0.0067838518880307674, -0.008528643287718296...  \n",
       "4    [-0.0005128878983668983, -0.02750258892774582,...  \n",
       "..                                                 ...  \n",
       "168  [0.015803100541234016, -0.01866208389401436, -...  \n",
       "169  [0.008315027691423893, -0.02372470125555992, -...  \n",
       "170  [0.0017093520145863295, -0.009248359128832817,...  \n",
       "171  [-0.024563809856772423, -0.020963717252016068,...  \n",
       "172  [-0.011584475636482239, -0.009254708886146545,...  \n",
       "\n",
       "[173 rows x 2 columns]"
      ]
     },
     "execution_count": 4,
     "metadata": {},
     "output_type": "execute_result"
    }
   ],
   "source": [
    "# Load the dataset\n",
    "ds = pd.read_csv(\"./embeddings.csv\")\n",
    "\n",
    "# Remove Unnamed columns\n",
    "ds = ds.loc[:, ~ds.columns.str.contains('^Unnamed')]\n",
    "\n",
    "ds"
   ]
  },
  {
   "cell_type": "code",
   "execution_count": null,
   "id": "a4011316",
   "metadata": {},
   "outputs": [],
   "source": []
  },
  {
   "cell_type": "code",
   "execution_count": null,
   "id": "f37f65ef",
   "metadata": {},
   "outputs": [],
   "source": []
  },
  {
   "cell_type": "markdown",
   "id": "7eff2773",
   "metadata": {},
   "source": [
    "### Creating an Embeddings Index with `openai.Embedding`"
   ]
  },
  {
   "cell_type": "code",
   "execution_count": null,
   "id": "c3c6f74b",
   "metadata": {},
   "outputs": [],
   "source": []
  },
  {
   "cell_type": "code",
   "execution_count": null,
   "id": "72b7f51e",
   "metadata": {},
   "outputs": [],
   "source": []
  },
  {
   "cell_type": "code",
   "execution_count": null,
   "id": "8d5405d9",
   "metadata": {},
   "outputs": [],
   "source": []
  },
  {
   "cell_type": "markdown",
   "id": "bd7b7331",
   "metadata": {},
   "source": [
    "## Step 2"
   ]
  },
  {
   "cell_type": "markdown",
   "id": "2152dad6",
   "metadata": {},
   "source": [
    "### Finding Relevant Data with Cosine Similarity"
   ]
  },
  {
   "cell_type": "code",
   "execution_count": null,
   "id": "8dbd7bdf",
   "metadata": {},
   "outputs": [],
   "source": []
  },
  {
   "cell_type": "code",
   "execution_count": null,
   "id": "581fc320",
   "metadata": {},
   "outputs": [],
   "source": []
  },
  {
   "cell_type": "code",
   "execution_count": null,
   "id": "bec62d71",
   "metadata": {},
   "outputs": [],
   "source": []
  },
  {
   "cell_type": "markdown",
   "id": "699486f6",
   "metadata": {},
   "source": [
    "## Step 3"
   ]
  },
  {
   "cell_type": "markdown",
   "id": "6e3716d6",
   "metadata": {},
   "source": [
    "### Tokenizing with `tiktoken`"
   ]
  },
  {
   "cell_type": "code",
   "execution_count": null,
   "id": "e969fa22",
   "metadata": {},
   "outputs": [],
   "source": []
  },
  {
   "cell_type": "code",
   "execution_count": null,
   "id": "ab51ffec",
   "metadata": {},
   "outputs": [],
   "source": []
  },
  {
   "cell_type": "code",
   "execution_count": null,
   "id": "f0888179",
   "metadata": {},
   "outputs": [],
   "source": []
  },
  {
   "cell_type": "markdown",
   "id": "a65d6d19",
   "metadata": {},
   "source": [
    "### Composing a Custom Text Prompt"
   ]
  },
  {
   "cell_type": "code",
   "execution_count": null,
   "id": "c9c35486",
   "metadata": {},
   "outputs": [],
   "source": []
  },
  {
   "cell_type": "code",
   "execution_count": null,
   "id": "d86f7502",
   "metadata": {},
   "outputs": [],
   "source": []
  },
  {
   "cell_type": "code",
   "execution_count": null,
   "id": "99c482c5",
   "metadata": {},
   "outputs": [],
   "source": []
  },
  {
   "cell_type": "markdown",
   "id": "d8b8f5dd",
   "metadata": {},
   "source": [
    "## Step 4"
   ]
  },
  {
   "cell_type": "markdown",
   "id": "495a549a",
   "metadata": {},
   "source": [
    "### Getting a Custom Q&A Response with `openai.Completion`"
   ]
  },
  {
   "cell_type": "code",
   "execution_count": null,
   "id": "3913334c",
   "metadata": {},
   "outputs": [],
   "source": []
  },
  {
   "cell_type": "code",
   "execution_count": null,
   "id": "626eb389",
   "metadata": {},
   "outputs": [],
   "source": []
  },
  {
   "cell_type": "code",
   "execution_count": null,
   "id": "d8e3d0e8",
   "metadata": {},
   "outputs": [],
   "source": []
  }
 ],
 "metadata": {
  "kernelspec": {
   "display_name": "Python 3 (ipykernel)",
   "language": "python",
   "name": "python3"
  },
  "language_info": {
   "codemirror_mode": {
    "name": "ipython",
    "version": 3
   },
   "file_extension": ".py",
   "mimetype": "text/x-python",
   "name": "python",
   "nbconvert_exporter": "python",
   "pygments_lexer": "ipython3",
   "version": "3.9.16"
  }
 },
 "nbformat": 4,
 "nbformat_minor": 5
}
